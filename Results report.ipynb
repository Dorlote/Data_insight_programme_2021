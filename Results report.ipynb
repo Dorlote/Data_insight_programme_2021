{
 "cells": [
  {
   "cell_type": "code",
   "execution_count": 1,
   "metadata": {},
   "outputs": [],
   "source": [
    "\n",
    "# display results\n",
    "def results():\n",
    "    x = int(input(\"please insert your grade : \"))\n",
    "    if x > 20 :\n",
    "        print('error')\n",
    "    elif x < 10 :\n",
    "        print('achievement level : failure')\n",
    "    elif x <= 12 :\n",
    "        print('achievement level : passable')\n",
    "    elif x <=14 :\n",
    "        print('achievement level : satisfactory')  \n",
    "    elif x <= 16 :\n",
    "        print('achievement level : good')\n",
    "    elif x <= 18 :    \n",
    "        print('achievement level : very good')\n",
    "    else :\n",
    "        print('achievement level : excellent')  \n"
   ]
  },
  {
   "cell_type": "code",
   "execution_count": 3,
   "metadata": {},
   "outputs": [
    {
     "name": "stdout",
     "output_type": "stream",
     "text": [
      "please insert your grade : 18\n",
      "achievement level : very good\n"
     ]
    }
   ],
   "source": [
    "results()"
   ]
  },
  {
   "cell_type": "code",
   "execution_count": 4,
   "metadata": {},
   "outputs": [
    {
     "name": "stdout",
     "output_type": "stream",
     "text": [
      "please insert your grade : 14\n",
      "achievement level : satisfactory\n"
     ]
    }
   ],
   "source": [
    "results()"
   ]
  },
  {
   "cell_type": "code",
   "execution_count": null,
   "metadata": {},
   "outputs": [],
   "source": []
  },
  {
   "cell_type": "code",
   "execution_count": null,
   "metadata": {},
   "outputs": [],
   "source": []
  }
 ],
 "metadata": {
  "kernelspec": {
   "display_name": "Python 3",
   "language": "python",
   "name": "python3"
  },
  "language_info": {
   "codemirror_mode": {
    "name": "ipython",
    "version": 3
   },
   "file_extension": ".py",
   "mimetype": "text/x-python",
   "name": "python",
   "nbconvert_exporter": "python",
   "pygments_lexer": "ipython3",
   "version": "3.8.3"
  }
 },
 "nbformat": 4,
 "nbformat_minor": 4
}
