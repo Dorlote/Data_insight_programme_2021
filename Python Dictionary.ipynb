{
 "cells": [
  {
   "cell_type": "code",
   "execution_count": 1,
   "metadata": {},
   "outputs": [],
   "source": [
    "#create dictionary\n",
    "Dict = {}\n",
    "#Or \n",
    "Dict = {'keys':'values', 'keys':'values','keys':'values'}\n",
    "\n"
   ]
  },
  {
   "cell_type": "code",
   "execution_count": 4,
   "metadata": {},
   "outputs": [],
   "source": [
    "#dictionary of dictionairies\n",
    "dict ={'keys':{'keys': 'values', 'keys':'values', 'keys':'values'}}\n",
    "#dictionary with value as a list\n",
    "dict_list={'keys':['...','...','...']}\n"
   ]
  },
  {
   "cell_type": "code",
   "execution_count": 11,
   "metadata": {},
   "outputs": [
    {
     "name": "stdout",
     "output_type": "stream",
     "text": [
      "{'keys': 'values'}\n"
     ]
    }
   ],
   "source": [
    "# print Keys\n",
    "'Keys'in dict \n",
    "# Print out value that belong to 'keys'\n",
    "print(dict['keys'])\n"
   ]
  },
  {
   "cell_type": "code",
   "execution_count": 14,
   "metadata": {},
   "outputs": [],
   "source": [
    "del(dict['keys'])\n",
    "\n"
   ]
  },
  {
   "cell_type": "code",
   "execution_count": 15,
   "metadata": {},
   "outputs": [],
   "source": [
    "Dict['keys'] ='values'"
   ]
  },
  {
   "cell_type": "code",
   "execution_count": 20,
   "metadata": {},
   "outputs": [
    {
     "name": "stdout",
     "output_type": "stream",
     "text": [
      "{}\n"
     ]
    }
   ],
   "source": [
    "# creating two new dictionary\n",
    "dict_1 ={}\n",
    "dict_2 ={}\n",
    "# merge of dictionaries\n",
    "dict_1. update (Dict_2)\n",
    "print(dict_1)\n"
   ]
  },
  {
   "cell_type": "code",
   "execution_count": 21,
   "metadata": {},
   "outputs": [],
   "source": [
    "dict_food ={'rice':350, 'oil':150,'sugar':650,'milk':100}"
   ]
  },
  {
   "cell_type": "code",
   "execution_count": 23,
   "metadata": {},
   "outputs": [],
   "source": [
    "# delete ‘milk’ \n",
    "del(dict_food['milk'])\n"
   ]
  },
  {
   "cell_type": "code",
   "execution_count": 25,
   "metadata": {},
   "outputs": [],
   "source": [
    "#add new keys\n",
    "dict_food['corn'] =300\n"
   ]
  },
  {
   "cell_type": "code",
   "execution_count": 27,
   "metadata": {},
   "outputs": [
    {
     "name": "stdout",
     "output_type": "stream",
     "text": [
      "{'rice': 350, 'oil': 150, 'sugar': 650, 'corn': 300}\n"
     ]
    }
   ],
   "source": [
    "print(dict_food)\n"
   ]
  },
  {
   "cell_type": "code",
   "execution_count": 31,
   "metadata": {},
   "outputs": [],
   "source": [
    "# another dictionary\n",
    "dict_sen = {'tomate':1000,'oignon':500,'potatos':500}\n"
   ]
  },
  {
   "cell_type": "code",
   "execution_count": 32,
   "metadata": {},
   "outputs": [
    {
     "name": "stdout",
     "output_type": "stream",
     "text": [
      "{'rice': 350, 'oil': 150, 'sugar': 650, 'corn': 300, 'tomate': 1000, 'oignon': 500, 'Pomme de terre': 500, 'potatos': 500}\n"
     ]
    }
   ],
   "source": [
    "#merging dict_food and dict_sen\n",
    "dict_food.update(dict_sen)\n",
    "print(dict_food)\n"
   ]
  },
  {
   "cell_type": "code",
   "execution_count": null,
   "metadata": {},
   "outputs": [],
   "source": []
  }
 ],
 "metadata": {
  "kernelspec": {
   "display_name": "Python 3",
   "language": "python",
   "name": "python3"
  },
  "language_info": {
   "codemirror_mode": {
    "name": "ipython",
    "version": 3
   },
   "file_extension": ".py",
   "mimetype": "text/x-python",
   "name": "python",
   "nbconvert_exporter": "python",
   "pygments_lexer": "ipython3",
   "version": "3.8.3"
  }
 },
 "nbformat": 4,
 "nbformat_minor": 4
}
