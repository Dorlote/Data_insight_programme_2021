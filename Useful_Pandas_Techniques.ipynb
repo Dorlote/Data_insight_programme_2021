{
  "nbformat": 4,
  "nbformat_minor": 0,
  "metadata": {
    "kernelspec": {
      "display_name": "Python 3",
      "language": "python",
      "name": "python3"
    },
    "language_info": {
      "codemirror_mode": {
        "name": "ipython",
        "version": 3
      },
      "file_extension": ".py",
      "mimetype": "text/x-python",
      "name": "python",
      "nbconvert_exporter": "python",
      "pygments_lexer": "ipython3",
      "version": "3.8.3"
    },
    "colab": {
      "name": "Useful Pandas Techniques.ipynb",
      "provenance": [],
      "collapsed_sections": []
    }
  },
  "cells": [
    {
      "cell_type": "markdown",
      "metadata": {
        "id": "piXCtdcUX07T"
      },
      "source": [
        "# USEFUL PANDAS TECHNIQUES IN PYTHON"
      ]
    },
    {
      "cell_type": "markdown",
      "metadata": {
        "id": "4iP56BQPX07X"
      },
      "source": [
        "\"\"\" We use dataset from 'https://raw.githubusercontent.com/mwaskom/seaborn-data/master/iris.csv'.\n",
        "Dataset description: the data describes the length and width of two stages (setal and petal) of different species of flowers).\"\"\""
      ]
    },
    {
      "cell_type": "code",
      "metadata": {
        "id": "dq0QODVjX07Z"
      },
      "source": [
        "# Import Pandas package\n",
        "import pandas as pd "
      ],
      "execution_count": 2,
      "outputs": []
    },
    {
      "cell_type": "markdown",
      "metadata": {
        "id": "-fDMc9BhX07a"
      },
      "source": [
        "# 1- Load DataFrame"
      ]
    },
    {
      "cell_type": "code",
      "metadata": {
        "colab": {
          "base_uri": "https://localhost:8080/"
        },
        "id": "Ikm8_mqTX07a",
        "outputId": "ac82ba85-9d69-483e-d250-fc69d9ec5052"
      },
      "source": [
        "# Read the DataFrame by using pd.read_csv(): iris\n",
        "iris = pd.read_csv('https://raw.githubusercontent.com/mwaskom/seaborn-data/master/iris.csv')\n",
        "\n",
        "# Print the first few of iris file\n",
        "print(iris.head())"
      ],
      "execution_count": 3,
      "outputs": [
        {
          "output_type": "stream",
          "name": "stdout",
          "text": [
            "   sepal_length  sepal_width  petal_length  petal_width species\n",
            "0           5.1          3.5           1.4          0.2  setosa\n",
            "1           4.9          3.0           1.4          0.2  setosa\n",
            "2           4.7          3.2           1.3          0.2  setosa\n",
            "3           4.6          3.1           1.5          0.2  setosa\n",
            "4           5.0          3.6           1.4          0.2  setosa\n"
          ]
        }
      ]
    },
    {
      "cell_type": "markdown",
      "metadata": {
        "id": "Y7F8xhUOX07c"
      },
      "source": [
        "# 2- Overview of DataFrame"
      ]
    },
    {
      "cell_type": "code",
      "metadata": {
        "colab": {
          "base_uri": "https://localhost:8080/"
        },
        "id": "uw7DNycoX07c",
        "outputId": "722184fd-7791-45dd-d32f-f3fbfe5631f9"
      },
      "source": [
        "# Overview of our DataFrame iris\n",
        "iris.info()\n",
        "iris.shape"
      ],
      "execution_count": 4,
      "outputs": [
        {
          "output_type": "stream",
          "name": "stdout",
          "text": [
            "<class 'pandas.core.frame.DataFrame'>\n",
            "RangeIndex: 150 entries, 0 to 149\n",
            "Data columns (total 5 columns):\n",
            " #   Column        Non-Null Count  Dtype  \n",
            "---  ------        --------------  -----  \n",
            " 0   sepal_length  150 non-null    float64\n",
            " 1   sepal_width   150 non-null    float64\n",
            " 2   petal_length  150 non-null    float64\n",
            " 3   petal_width   150 non-null    float64\n",
            " 4   species       150 non-null    object \n",
            "dtypes: float64(4), object(1)\n",
            "memory usage: 6.0+ KB\n"
          ]
        },
        {
          "output_type": "execute_result",
          "data": {
            "text/plain": [
              "(150, 5)"
            ]
          },
          "metadata": {},
          "execution_count": 4
        }
      ]
    },
    {
      "cell_type": "markdown",
      "metadata": {
        "id": "dNLOS8PFX07d"
      },
      "source": [
        "# 3- Sorting and setting DataFrame"
      ]
    },
    {
      "cell_type": "code",
      "metadata": {
        "colab": {
          "base_uri": "https://localhost:8080/"
        },
        "id": "i6EjbChUX07e",
        "outputId": "334bd214-4874-4ab1-9c96-7acddeab83d1"
      },
      "source": [
        "# sort iris by descending sepal_lenght\n",
        "iris_sort = iris.sort_values(\"sepal_length\",ascending = False)\n",
        "print(iris_sort.head(5))"
      ],
      "execution_count": 5,
      "outputs": [
        {
          "output_type": "stream",
          "name": "stdout",
          "text": [
            "     sepal_length  sepal_width  petal_length  petal_width    species\n",
            "131           7.9          3.8           6.4          2.0  virginica\n",
            "135           7.7          3.0           6.1          2.3  virginica\n",
            "122           7.7          2.8           6.7          2.0  virginica\n",
            "117           7.7          3.8           6.7          2.2  virginica\n",
            "118           7.7          2.6           6.9          2.3  virginica\n"
          ]
        }
      ]
    },
    {
      "cell_type": "code",
      "metadata": {
        "colab": {
          "base_uri": "https://localhost:8080/"
        },
        "id": "Y-VpW_LrX07f",
        "outputId": "8da7044b-e669-4720-c1aa-3b532dc61f3c"
      },
      "source": [
        "# setting species colomn as the index\n",
        "iris_ind = iris.set_index(\"species\")\n",
        "print(iris_ind)\n"
      ],
      "execution_count": 6,
      "outputs": [
        {
          "output_type": "stream",
          "name": "stdout",
          "text": [
            "           sepal_length  sepal_width  petal_length  petal_width\n",
            "species                                                        \n",
            "setosa              5.1          3.5           1.4          0.2\n",
            "setosa              4.9          3.0           1.4          0.2\n",
            "setosa              4.7          3.2           1.3          0.2\n",
            "setosa              4.6          3.1           1.5          0.2\n",
            "setosa              5.0          3.6           1.4          0.2\n",
            "...                 ...          ...           ...          ...\n",
            "virginica           6.7          3.0           5.2          2.3\n",
            "virginica           6.3          2.5           5.0          1.9\n",
            "virginica           6.5          3.0           5.2          2.0\n",
            "virginica           6.2          3.4           5.4          2.3\n",
            "virginica           5.9          3.0           5.1          1.8\n",
            "\n",
            "[150 rows x 4 columns]\n"
          ]
        }
      ]
    },
    {
      "cell_type": "code",
      "metadata": {
        "colab": {
          "base_uri": "https://localhost:8080/"
        },
        "id": "I2mpYdg2X07f",
        "outputId": "686c59ee-42fa-4ec8-d321-1e511b1067c2"
      },
      "source": [
        "# sorting by index values\n",
        "iris_ind_sort = iris_ind.sort_index()\n",
        "print(iris_ind_sort)"
      ],
      "execution_count": 7,
      "outputs": [
        {
          "output_type": "stream",
          "name": "stdout",
          "text": [
            "           sepal_length  sepal_width  petal_length  petal_width\n",
            "species                                                        \n",
            "setosa              5.1          3.5           1.4          0.2\n",
            "setosa              4.9          3.0           1.4          0.2\n",
            "setosa              4.7          3.2           1.3          0.2\n",
            "setosa              4.6          3.1           1.5          0.2\n",
            "setosa              5.0          3.6           1.4          0.2\n",
            "...                 ...          ...           ...          ...\n",
            "virginica           6.7          3.0           5.2          2.3\n",
            "virginica           6.3          2.5           5.0          1.9\n",
            "virginica           6.5          3.0           5.2          2.0\n",
            "virginica           6.2          3.4           5.4          2.3\n",
            "virginica           5.9          3.0           5.1          1.8\n",
            "\n",
            "[150 rows x 4 columns]\n"
          ]
        }
      ]
    },
    {
      "cell_type": "markdown",
      "metadata": {
        "id": "MtpWixCRX07g"
      },
      "source": [
        "# 4- Missing values"
      ]
    },
    {
      "cell_type": "code",
      "metadata": {
        "colab": {
          "base_uri": "https://localhost:8080/"
        },
        "id": "f2oremz3X07h",
        "outputId": "cae1bc93-8503-4927-b923-79fe840fc7fa"
      },
      "source": [
        "# Finding missing values\n",
        "iris.isna().any()"
      ],
      "execution_count": 8,
      "outputs": [
        {
          "output_type": "execute_result",
          "data": {
            "text/plain": [
              "sepal_length    False\n",
              "sepal_width     False\n",
              "petal_length    False\n",
              "petal_width     False\n",
              "species         False\n",
              "dtype: bool"
            ]
          },
          "metadata": {},
          "execution_count": 8
        }
      ]
    },
    {
      "cell_type": "code",
      "metadata": {
        "colab": {
          "base_uri": "https://localhost:8080/"
        },
        "id": "NbYrL41zX07h",
        "outputId": "ed877aa2-d9a9-4efc-de35-ded496a78aa7"
      },
      "source": [
        "# Drop duplicates \n",
        "df_after_drop = iris.drop_duplicates(\"petal_length\")\n",
        "print(\"Before dropping duplicate:\", iris.shape)\n",
        "print(\"After dropping duplicate:\", df_after_drop.shape)\n"
      ],
      "execution_count": 9,
      "outputs": [
        {
          "output_type": "stream",
          "name": "stdout",
          "text": [
            "Before dropping duplicate: (150, 5)\n",
            "After dropping duplicate: (43, 5)\n"
          ]
        }
      ]
    },
    {
      "cell_type": "markdown",
      "metadata": {
        "id": "ms0cFpx5X07h"
      },
      "source": [
        "# 5- Aggregate"
      ]
    },
    {
      "cell_type": "code",
      "metadata": {
        "colab": {
          "base_uri": "https://localhost:8080/"
        },
        "id": "uTYOBRR1X07i",
        "outputId": "40d85ce7-6d00-451e-e130-e20ad5be9277"
      },
      "source": [
        "# Aggregate over sepal_length column\n",
        "sepal_length_agg = iris[\"sepal_length\"].agg(['min','max','sum'])\n",
        "print(sepal_length_agg)"
      ],
      "execution_count": 10,
      "outputs": [
        {
          "output_type": "stream",
          "name": "stdout",
          "text": [
            "min      4.3\n",
            "max      7.9\n",
            "sum    876.5\n",
            "Name: sepal_length, dtype: float64\n"
          ]
        }
      ]
    },
    {
      "cell_type": "code",
      "metadata": {
        "colab": {
          "base_uri": "https://localhost:8080/",
          "height": 142
        },
        "id": "NCGHyMzQX07i",
        "outputId": "05d86173-3c5e-4de7-ccb7-0fe53068a418"
      },
      "source": [
        "# Aggregate over sepal_length per sepal_width and petal_width columns\n",
        "\n",
        "iris.agg({'sepal_width' : ['median', 'min','max'], 'petal_width' : ['median','min', 'max']})"
      ],
      "execution_count": 11,
      "outputs": [
        {
          "output_type": "execute_result",
          "data": {
            "text/html": [
              "<div>\n",
              "<style scoped>\n",
              "    .dataframe tbody tr th:only-of-type {\n",
              "        vertical-align: middle;\n",
              "    }\n",
              "\n",
              "    .dataframe tbody tr th {\n",
              "        vertical-align: top;\n",
              "    }\n",
              "\n",
              "    .dataframe thead th {\n",
              "        text-align: right;\n",
              "    }\n",
              "</style>\n",
              "<table border=\"1\" class=\"dataframe\">\n",
              "  <thead>\n",
              "    <tr style=\"text-align: right;\">\n",
              "      <th></th>\n",
              "      <th>sepal_width</th>\n",
              "      <th>petal_width</th>\n",
              "    </tr>\n",
              "  </thead>\n",
              "  <tbody>\n",
              "    <tr>\n",
              "      <th>median</th>\n",
              "      <td>3.0</td>\n",
              "      <td>1.3</td>\n",
              "    </tr>\n",
              "    <tr>\n",
              "      <th>min</th>\n",
              "      <td>2.0</td>\n",
              "      <td>0.1</td>\n",
              "    </tr>\n",
              "    <tr>\n",
              "      <th>max</th>\n",
              "      <td>4.4</td>\n",
              "      <td>2.5</td>\n",
              "    </tr>\n",
              "  </tbody>\n",
              "</table>\n",
              "</div>"
            ],
            "text/plain": [
              "        sepal_width  petal_width\n",
              "median          3.0          1.3\n",
              "min             2.0          0.1\n",
              "max             4.4          2.5"
            ]
          },
          "metadata": {},
          "execution_count": 11
        }
      ]
    },
    {
      "cell_type": "markdown",
      "metadata": {
        "id": "c4-ETCVNX07j"
      },
      "source": [
        "# 6- Gouped summary statistics"
      ]
    },
    {
      "cell_type": "code",
      "metadata": {
        "colab": {
          "base_uri": "https://localhost:8080/"
        },
        "id": "RV0KHZC5X07j",
        "outputId": "d21aab06-884d-484f-a012-0bbe3196f62f"
      },
      "source": [
        "# groupe by species, calculate mean sepal_length,petal_length\n",
        "length_group = iris_ind_sort.groupby(\"species\")[[\"sepal_length\",\"petal_length\"]].mean()\n",
        "print(length_group)"
      ],
      "execution_count": 12,
      "outputs": [
        {
          "output_type": "stream",
          "name": "stdout",
          "text": [
            "            sepal_length  petal_length\n",
            "species                               \n",
            "setosa             5.006         1.462\n",
            "versicolor         5.936         4.260\n",
            "virginica          6.588         5.552\n"
          ]
        }
      ]
    },
    {
      "cell_type": "code",
      "metadata": {
        "colab": {
          "base_uri": "https://localhost:8080/"
        },
        "id": "j64Fg_KoX07j",
        "outputId": "e27338a0-df8b-400c-89eb-2068f4be7a02"
      },
      "source": [
        "# groupe by species, calculate mean sepal_width,petal_width\n",
        "width_group = iris_ind_sort.groupby(\"species\")[[\"sepal_width\",\"petal_width\"]].mean()\n",
        "print(width_group)"
      ],
      "execution_count": 13,
      "outputs": [
        {
          "output_type": "stream",
          "name": "stdout",
          "text": [
            "            sepal_width  petal_width\n",
            "species                             \n",
            "setosa            3.428        0.246\n",
            "versicolor        2.770        1.326\n",
            "virginica         2.974        2.026\n"
          ]
        }
      ]
    },
    {
      "cell_type": "markdown",
      "metadata": {
        "id": "0o3eRGc3X07k"
      },
      "source": [
        "# 7- Plotting"
      ]
    },
    {
      "cell_type": "code",
      "metadata": {
        "colab": {
          "base_uri": "https://localhost:8080/",
          "height": 692
        },
        "id": "mOrPTwPsX07l",
        "outputId": "22efdcfd-ff60-48a0-d1c6-018ef4c9dcc0"
      },
      "source": [
        "iris_sort.hist( figsize=(15, 10))"
      ],
      "execution_count": 16,
      "outputs": [
        {
          "output_type": "execute_result",
          "data": {
            "text/plain": [
              "array([[<matplotlib.axes._subplots.AxesSubplot object at 0x7f92bd746150>,\n",
              "        <matplotlib.axes._subplots.AxesSubplot object at 0x7f92bd6f8210>],\n",
              "       [<matplotlib.axes._subplots.AxesSubplot object at 0x7f92bd6ac810>,\n",
              "        <matplotlib.axes._subplots.AxesSubplot object at 0x7f92bd661e10>]],\n",
              "      dtype=object)"
            ]
          },
          "metadata": {},
          "execution_count": 16
        },
        {
          "output_type": "display_data",
          "data": {
            "image/png": "[encoded data removed]",
            "text/plain": [
              "<Figure size 1080x720 with 4 Axes>"
            ]
          },
          "metadata": {
            "needs_background": "light"
          }
        }
      ]
    }
  ]
}