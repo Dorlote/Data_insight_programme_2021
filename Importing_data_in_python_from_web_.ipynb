{
  "cells": [
    {
      "cell_type": "markdown",
      "metadata": {
        "id": "ByXUBor43IwA"
      },
      "source": [
        "# IMPORTING DATA IN PYTHON FROM THE WEB\n",
        "\n",
        "---\n",
        "\n"
      ]
    },
    {
      "cell_type": "markdown",
      "metadata": {
        "id": "BRoahK393IwI"
      },
      "source": [
        "# 1) Importing flat file "
      ]
    },
    {
      "cell_type": "code",
      "execution_count": 16,
      "metadata": {
        "id": "gJsg3yMz3IwJ"
      },
      "outputs": [],
      "source": [
        "# import packages\n",
        "import pandas as pd \n",
        "from urllib.request import urlretrieve "
      ]
    },
    {
      "cell_type": "code",
      "execution_count": 17,
      "metadata": {
        "id": "rsHeWcLZ3IwK"
      },
      "outputs": [],
      "source": [
        "# provide the url \n",
        "url = 'https://perso.telecom-paristech.fr/eagan/class/igr204/data/factbook.csv'"
      ]
    },
    {
      "cell_type": "code",
      "execution_count": 18,
      "metadata": {
        "id": "7jZaweQm3IwL",
        "outputId": "19ca54a7-4905-4b8f-e8d0-8f25aac2895b",
        "colab": {
          "base_uri": "https://localhost:8080/"
        }
      },
      "outputs": [
        {
          "output_type": "execute_result",
          "data": {
            "text/plain": [
              "('cars.csv', <http.client.HTTPMessage at 0x7ff08298dfd0>)"
            ]
          },
          "metadata": {},
          "execution_count": 18
        }
      ],
      "source": [
        "# load and save the file locally\n",
        "urlretrieve(url,'cars.csv')"
      ]
    },
    {
      "cell_type": "code",
      "execution_count": 19,
      "metadata": {
        "id": "v6x3RmJG3IwM",
        "outputId": "2d54e51a-9fd0-46f0-ce3e-f06be9e6b09a",
        "colab": {
          "base_uri": "https://localhost:8080/"
        }
      },
      "outputs": [
        {
          "output_type": "stream",
          "name": "stdout",
          "text": [
            "       Country  ... Unemployment rate(%)\n",
            "0       String  ...               double\n",
            "1  Afghanistan  ...                  NaN\n",
            "2     Akrotiri  ...                  NaN\n",
            "3      Albania  ...                14.80\n",
            "4      Algeria  ...                25.40\n",
            "\n",
            "[5 rows x 45 columns]\n"
          ]
        }
      ],
      "source": [
        "# read the file with pandas and store it as df\n",
        "df = pd.read_csv('cars.csv', sep = ';')\n",
        "# print the first five rows of our DataFrame\n",
        "print(df.head(n = 5))"
      ]
    },
    {
      "cell_type": "code",
      "execution_count": 19,
      "metadata": {
        "id": "CblwyLCk3IwN"
      },
      "outputs": [],
      "source": [
        ""
      ]
    },
    {
      "cell_type": "markdown",
      "metadata": {
        "id": "nruae5-I3IwO"
      },
      "source": [
        "# 2) Importing non flat file"
      ]
    },
    {
      "cell_type": "code",
      "execution_count": 20,
      "metadata": {
        "id": "aL-qVhZj3IwP"
      },
      "outputs": [],
      "source": [
        "# assign url of file : url\n",
        "url_excel = \"https://file-examples-com.github.io/uploads/2017/02/file_example_XLS_100.xls\""
      ]
    },
    {
      "cell_type": "code",
      "source": [
        "#read the excel file in all sheets and store it as xls\n",
        "xls = pd.read_excel(url_excel, sheet_name= None)"
      ],
      "metadata": {
        "id": "yARWfLzC9vJ-"
      },
      "execution_count": 21,
      "outputs": []
    },
    {
      "cell_type": "code",
      "source": [
        "# print the sheetnames  \n",
        "print(xls.keys())"
      ],
      "metadata": {
        "colab": {
          "base_uri": "https://localhost:8080/"
        },
        "id": "dthYyZ5c_Rbo",
        "outputId": "6eceedf6-2f48-4bae-c4af-f90586a70ace"
      },
      "execution_count": 22,
      "outputs": [
        {
          "output_type": "stream",
          "name": "stdout",
          "text": [
            "dict_keys(['Sheet1'])\n"
          ]
        }
      ]
    }
  ],
  "metadata": {
    "kernelspec": {
      "display_name": "Python 3",
      "language": "python",
      "name": "python3"
    },
    "language_info": {
      "codemirror_mode": {
        "name": "ipython",
        "version": 3
      },
      "file_extension": ".py",
      "mimetype": "text/x-python",
      "name": "python",
      "nbconvert_exporter": "python",
      "pygments_lexer": "ipython3",
      "version": "3.8.3"
    },
    "colab": {
      "name": "Importing data in python from web .ipynb",
      "provenance": []
    }
  },
  "nbformat": 4,
  "nbformat_minor": 0
}