{
 "cells": [
  {
   "cell_type": "code",
   "execution_count": 1,
   "metadata": {},
   "outputs": [],
   "source": [
    "# calcul BMI\n",
    "def calcul_bmi(height,weight):\n",
    "    bmi= weight/height**2\n",
    "    bmi_round = round(bmi,2)\n",
    "    if bmi < 18.5:\n",
    "        print('your BMI is ' + str(bmi_round) + ' and you are underweight')\n",
    "    elif bmi <= 24.9 :\n",
    "        print('your BMI is ' + str(bmi_round) +' and you have normal wieght')\n",
    "    elif bmi <= 29.9 :\n",
    "        print('your BMI is ' + str(bmi_round) + ' and you are overweight')\n",
    "    else :\n",
    "        print('your BMI is ' + str(bmi_round) + 'and you are obese')"
   ]
  },
  {
   "cell_type": "code",
   "execution_count": 2,
   "metadata": {},
   "outputs": [
    {
     "name": "stdout",
     "output_type": "stream",
     "text": [
      "your BMI is 21.6 and you have normal wieght\n"
     ]
    }
   ],
   "source": [
    "calcul_bmi(1.80 , 70)"
   ]
  },
  {
   "cell_type": "code",
   "execution_count": null,
   "metadata": {},
   "outputs": [],
   "source": []
  }
 ],
 "metadata": {
  "kernelspec": {
   "display_name": "Python 3",
   "language": "python",
   "name": "python3"
  },
  "language_info": {
   "codemirror_mode": {
    "name": "ipython",
    "version": 3
   },
   "file_extension": ".py",
   "mimetype": "text/x-python",
   "name": "python",
   "nbconvert_exporter": "python",
   "pygments_lexer": "ipython3",
   "version": "3.8.3"
  }
 },
 "nbformat": 4,
 "nbformat_minor": 4
}
